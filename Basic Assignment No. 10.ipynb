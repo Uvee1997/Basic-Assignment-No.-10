{
 "cells": [
  {
   "cell_type": "markdown",
   "id": "a4905d1a",
   "metadata": {},
   "source": [
    "1) How do you distinguish between shutil.copy() and shutil.copytree() ?\n",
    "\n",
    ":- shutil.copy() will copy only single file, while shutil.copytree will copy entire folder & every folder & file contain \n",
    "   in it"
   ]
  },
  {
   "cell_type": "markdown",
   "id": "242fc165",
   "metadata": {},
   "source": [
    "2) What function is used to rename files?\n",
    "\n",
    ":- rename()"
   ]
  },
  {
   "cell_type": "markdown",
   "id": "6b8e4794",
   "metadata": {},
   "source": [
    "3) What is the difference between the delete functions in the send2trash and shutil modules?\n",
    "\n",
    ":- send2trash function will move the file or folder to recycle bin, while shutil function will delete the file or folder\n",
    "   permanently "
   ]
  },
  {
   "cell_type": "markdown",
   "id": "2a5ff1fa",
   "metadata": {},
   "source": [
    "4) ZipFile objects have a close() method just like File objects’ close() method. What ZipFile method is\n",
    "   equivalent to File objects’ open() method?\n",
    "    \n",
    ":- zipfile.ZipFile() is equivalent to file objects open function    "
   ]
  },
  {
   "cell_type": "markdown",
   "id": "77000481",
   "metadata": {},
   "source": [
    "5) Create a programme that searches a folder tree for files with a certain file extension (such as .pdf\n",
    "   or .jpg). Copy these files from whatever location they are in to a new folder.\n",
    "\n",
    ":- import os, shushil\n",
    "   \n",
    "   def moveFileType(folder):\n",
    "        for folderName,subfolder,fileName os.walk(folder):\n",
    "            for subfolder in subfolders:\n",
    "                for filename in filenames:\n",
    "                    if filename.endswitch('.jpg'):\n",
    "                        shutil.copy(folder+fileName,'<destination>')\n",
    "   moveFileType('<source>')                     \n",
    "        "
   ]
  },
  {
   "cell_type": "code",
   "execution_count": null,
   "id": "a76fe589",
   "metadata": {},
   "outputs": [],
   "source": []
  }
 ],
 "metadata": {
  "kernelspec": {
   "display_name": "Python 3 (ipykernel)",
   "language": "python",
   "name": "python3"
  },
  "language_info": {
   "codemirror_mode": {
    "name": "ipython",
    "version": 3
   },
   "file_extension": ".py",
   "mimetype": "text/x-python",
   "name": "python",
   "nbconvert_exporter": "python",
   "pygments_lexer": "ipython3",
   "version": "3.9.7"
  }
 },
 "nbformat": 4,
 "nbformat_minor": 5
}
